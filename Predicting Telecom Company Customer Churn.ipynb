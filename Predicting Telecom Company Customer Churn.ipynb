{
 "cells": [
  {
   "cell_type": "markdown",
   "metadata": {},
   "source": [
    "PREDICTING TELCOM CUSTOMERS CHURN"
   ]
  },
  {
   "cell_type": "markdown",
   "metadata": {},
   "source": [
    "1. Defining the question\n",
    "\n",
    "a) Specifying the Data Analytic Question\n",
    "\n",
    "The solution will seek to establish customer churn for Telco. The predction will be based on Telco data and wil also give in depth insights into some of the key demographic factors that might drive individuals agreeing to churn.\n",
    "\n",
    "b) The Metric for Success\n",
    "\n",
    "We aim to establish the factors that detemine the factors that determine whether an individual will churn or not. We will also make reccomendations to Telsos on ways they can use to ensure that they reach more people and increase their chances of getting positive response in effort to turn customers.\n",
    "\n",
    "c) The Experimental Design\n",
    " Below are the steps taken in this analysis\n",
    " 1. loading the required libraries\n",
    " 2. Loading and previewing data\n",
    " 3. Cleaning the data\n",
    " 4. Univariate analysis\n",
    " 5. Bivariate analysis\n",
    " 6. Multivariate analysis\n",
    " 7. Implementing the solution by using the neccesary analysis(XGBoost)\n",
    " 8. Challenging the solution and giving insights on how improvements can be made.\n",
    "\n",
    "d) Data Relevance and Validation \n",
    "\n",
    "The data available is relevant for the intended analysis. It contains demographic information that is significant to determine customer churn for Telcos.\n",
    "The data will help us in answering the data analytic question on the demographic factors that affect customer churn for Telcos. The data will also enable predicting the customer churn. \n",
    "\n",
    "e) Understanding the context \n",
    "\n",
    "The data set we are to work with contains the following columns:\n",
    "\n",
    " i. Customer ID:Customer ID \n",
    "\n",
    " ii. Gender: Whether the customer is a male or a female \n",
    "\n",
    " iii. SeniorCitizen: Whether the customer is a senior citizen or not (1, 0) \n",
    "\n",
    " iv. Partner: Whether the customer has a partner or not (Yes, No) \n",
    "\n",
    " v. Dependents: Whether the customer has dependents or not (Yes, No) \n",
    "\n",
    " vi. Tenure: Number of months the customer has stayed with the company \n",
    "\n",
    " vii. PhoneService: Whether the customer has a phone service or not (Yes, No) \n",
    "\n",
    " viii. MultipleLines: Whether the customer has multiple lines or not (Yes, No, No phone service) \n",
    "\n",
    " ix. InternetService: Customer’s internet service provider (DSL, Fiber optic, No) \n",
    "\n",
    " x. OnlineSecurity: Whether the customer has online security or not (Yes, No, No internet service) \n",
    "\n",
    " xi. OnlineBackup : Whether the customer has online backup (Yes, No, No Internet service) \n",
    "\n",
    " xii. DeviceProtection : Whether the customer has device protection (Yes, No, No Internet service) \n",
    "\n",
    " xiii. TechSupport : Whether the customer receives technical support (Yes, No, No Internet service) \n",
    "\n",
    " xiv. StreamingTV : Whether the customer has streaming TV (Yes, No, no Internet service) (The customer has a third-party indicates whether the provider uses the Internet service to broadcast television programs) \n",
    "\n",
    " xv. StreamingMovies : Whether the customer has streaming movies (Yes, No, No Internet service) (Customer has a third-party Indicates whether the customer is using the Internet service to stream movies from the provider) \n",
    "\n",
    " xvi. Contract : Duration of the customer's contract (Month to month, One year, Two years) \n",
    "\n",
    " xvii. PaperlessBilling : Whether the customer has a paperless bill (Yes, No) \n",
    "\n",
    " xix. PaymentMethod : Customer's payment method (Electronic check, Postal check, Bank transfer (automatic), Credit card (automatic) \n",
    "\n",
    " xx. MonthlyCharges : Amount charged to the customer monthly \n",
    "\n",
    " xxi. TotalCharges : Total amount charged to the customer \n",
    "\n",
    " xxii. Churn : Whether the customer is using or not (Yes or No) - Customers who left in the last month or quarter.\n",
    " \n",
    "\n",
    "Each row represents a unique customer. The variables contain differetn information about the customers' service, account and demographic data.\n",
    "\n",
    "Services that customers sign up for include phone, diffferent lines, internet, online security, online backup, device protection, technical support and movies streaming. Customer account information include duration they have been a customer, contract, payment method, paperless billing, monthly charges and and total charges. Demographic information about clients include the gender, age range, partners and dependents.\n",
    "\n",
    "Telco customer churn contains information about a fictitious telecom company providing home phone and Internet services to 7043 customers in California in the third quarter. It includes which customers left, stayed or signed up for service.\n",
    "\n",
    "The data set consists of 21 Variables and 7043 Observations."
   ]
  },
  {
   "cell_type": "code",
   "execution_count": 4,
   "metadata": {},
   "outputs": [],
   "source": [
    "#Importing the required libraries\n",
    "import pandas as pd\n",
    "import numpy as np\n",
    "import matplotlib.pyplot as plt"
   ]
  },
  {
   "cell_type": "code",
   "execution_count": 5,
   "metadata": {},
   "outputs": [],
   "source": [
    "#Loading the data\n",
    "dataset='/home/sammy/Documents/Lux-Dev_Projects/Telco-Customer-Churn.csv'\n",
    "\n",
    "df=pd.read_csv(dataset)"
   ]
  }
 ],
 "metadata": {
  "kernelspec": {
   "display_name": "base",
   "language": "python",
   "name": "python3"
  },
  "language_info": {
   "codemirror_mode": {
    "name": "ipython",
    "version": 3
   },
   "file_extension": ".py",
   "mimetype": "text/x-python",
   "name": "python",
   "nbconvert_exporter": "python",
   "pygments_lexer": "ipython3",
   "version": "3.10.9"
  },
  "orig_nbformat": 4
 },
 "nbformat": 4,
 "nbformat_minor": 2
}
